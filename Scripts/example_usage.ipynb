{
  "cells": [
    {
      "cell_type": "markdown",
      "metadata": {},
      "source": [
        "# RubriCheck Pipeline Examples\n",
        "================================================\n",
        "Demonstrates how to use the integrated pipeline programmatically.\n"
      ]
    },
    {
      "cell_type": "code",
      "execution_count": 1,
      "metadata": {},
      "outputs": [
        {
          "ename": "NameError",
          "evalue": "name '__file__' is not defined",
          "output_type": "error",
          "traceback": [
            "\u001b[1;31m---------------------------------------------------------------------------\u001b[0m",
            "\u001b[1;31mNameError\u001b[0m                                 Traceback (most recent call last)",
            "Cell \u001b[1;32mIn[1], line 6\u001b[0m\n\u001b[0;32m      3\u001b[0m \u001b[38;5;28;01mfrom\u001b[39;00m\u001b[38;5;250m \u001b[39m\u001b[38;5;21;01mpathlib\u001b[39;00m\u001b[38;5;250m \u001b[39m\u001b[38;5;28;01mimport\u001b[39;00m Path\n\u001b[0;32m      5\u001b[0m \u001b[38;5;66;03m# Add current directory to path\u001b[39;00m\n\u001b[1;32m----> 6\u001b[0m sys\u001b[38;5;241m.\u001b[39mpath\u001b[38;5;241m.\u001b[39mappend(os\u001b[38;5;241m.\u001b[39mpath\u001b[38;5;241m.\u001b[39mdirname(os\u001b[38;5;241m.\u001b[39mpath\u001b[38;5;241m.\u001b[39mabspath(\u001b[38;5;18;43m__file__\u001b[39;49m)))\n\u001b[0;32m      8\u001b[0m \u001b[38;5;28;01mfrom\u001b[39;00m\u001b[38;5;250m \u001b[39m\u001b[38;5;21;01mrubriCheck_pipeline\u001b[39;00m\u001b[38;5;250m \u001b[39m\u001b[38;5;28;01mimport\u001b[39;00m RubriCheckPipeline, PreprocessOptions\n",
            "\u001b[1;31mNameError\u001b[0m: name '__file__' is not defined"
          ]
        }
      ],
      "source": [
        "import os\n",
        "import sys\n",
        "from pathlib import Path\n",
        "\n",
        "# Add current directory to path\n",
        "sys.path.append(os.path.dirname(os.path.abspath(__file__)))\n",
        "\n",
        "from rubriCheck_pipeline import RubriCheckPipeline, PreprocessOptions\n"
      ]
    },
    {
      "cell_type": "markdown",
      "metadata": {},
      "source": [
        "## Example 1: Basic Pipeline Usage\n",
        "This example shows the simplest way to use the complete pipeline.\n"
      ]
    },
    {
      "cell_type": "code",
      "execution_count": null,
      "metadata": {},
      "outputs": [],
      "source": [
        "def example_basic_usage():\n",
        "    \"\"\"Basic example of using the pipeline.\"\"\"\n",
        "    print(\"🔬 Example: Basic Pipeline Usage\")\n",
        "    print(\"=\" * 40)\n",
        "    \n",
        "    # Initialize pipeline\n",
        "    pipeline = RubriCheckPipeline(api_key_file=\"../api.txt\")\n",
        "    \n",
        "    # Example file paths (adjust these to your actual files)\n",
        "    rubric_path = \"test_file/test_rubric.docx\"\n",
        "    essay_path = \"test_essay.txt\"  # You'll need to create this\n",
        "    \n",
        "    # Create a sample essay if it doesn't exist\n",
        "    if not os.path.exists(essay_path):\n",
        "        sample_essay = \"\"\"\n",
        "        This essay argues that renewable energy is essential to national security by reducing dependence on volatile fuel markets.\n",
        "        \n",
        "        Several reports show countries with higher renewable portfolios experience less price shock; however, grid stability challenges remain.\n",
        "        \n",
        "        Opponents claim costs are prohibitive; this essay demonstrates recent cost curves and policy mechanisms that offset initial investment.\n",
        "        \"\"\"\n",
        "        with open(essay_path, 'w', encoding='utf-8') as f:\n",
        "            f.write(sample_essay)\n",
        "        print(f\"📝 Created sample essay: {essay_path}\")\n",
        "    \n",
        "    try:\n",
        "        # Run complete pipeline\n",
        "        results = pipeline.run_complete_pipeline(\n",
        "            rubric_path=rubric_path,\n",
        "            essay_path=essay_path,\n",
        "            output_path=\"example_results.json\"\n",
        "        )\n",
        "        \n",
        "        # Print results\n",
        "        print(\"\\n📊 Results:\")\n",
        "        grading = results[\"grading_results\"]\n",
        "        print(f\"Score: {grading['numeric_score']} ({grading['letter_grade']})\")\n",
        "        \n",
        "        return results\n",
        "        \n",
        "    except Exception as e:\n",
        "        print(f\"❌ Error: {e}\")\n",
        "        return None\n",
        "\n",
        "# Run the basic example\n",
        "example_basic_usage()\n"
      ]
    },
    {
      "cell_type": "markdown",
      "metadata": {},
      "source": [
        "## Example 2: Custom Options\n",
        "This example shows how to customize the essay preprocessing options.\n"
      ]
    },
    {
      "cell_type": "code",
      "execution_count": null,
      "metadata": {},
      "outputs": [],
      "source": [
        "def example_custom_options():\n",
        "    \"\"\"Example with custom preprocessing options.\"\"\"\n",
        "    print(\"\\n🔧 Example: Custom Options\")\n",
        "    print(\"=\" * 30)\n",
        "    \n",
        "    pipeline = RubriCheckPipeline()\n",
        "    \n",
        "    # Custom essay preprocessing options\n",
        "    custom_options = PreprocessOptions(\n",
        "        target_language=\"en\",\n",
        "        translate_non_english=False,  # Disable translation\n",
        "        redact_pii=True,             # Enable PII redaction\n",
        "        chunk_max_paragraphs=4,     # Smaller chunks\n",
        "        chunk_overlap_paragraphs=1\n",
        "    )\n",
        "    \n",
        "    # Example usage with custom options\n",
        "    try:\n",
        "        # Process essay with custom options\n",
        "        processed_essay = pipeline.process_essay(\"test_essay.txt\", custom_options)\n",
        "        print(f\"✅ Essay processed with custom options: {processed_essay.metadata.word_count} words\")\n",
        "        \n",
        "        # Parse rubric\n",
        "        rubric = pipeline.parse_rubric(\"test_file/test_rubric.docx\")\n",
        "        print(f\"✅ Rubric parsed: {len(rubric.get('criteria', []))} criteria\")\n",
        "        \n",
        "        # Grade essay\n",
        "        grade_summary = pipeline.grade_essay(rubric, processed_essay)\n",
        "        print(f\"✅ Grading complete: {grade_summary.numeric_score}\")\n",
        "        \n",
        "    except Exception as e:\n",
        "        print(f\"❌ Error: {e}\")\n",
        "\n",
        "# Run the custom options example\n",
        "example_custom_options()\n"
      ]
    },
    {
      "cell_type": "markdown",
      "metadata": {},
      "source": [
        "## Example 3: Step-by-Step Execution\n",
        "This example shows how to run each step of the pipeline individually for more control.\n"
      ]
    },
    {
      "cell_type": "code",
      "execution_count": null,
      "metadata": {},
      "outputs": [],
      "source": [
        "def example_step_by_step():\n",
        "    \"\"\"Example showing step-by-step pipeline execution.\"\"\"\n",
        "    print(\"\\n🔍 Example: Step-by-Step Execution\")\n",
        "    print(\"=\" * 35)\n",
        "    \n",
        "    pipeline = RubriCheckPipeline()\n",
        "    \n",
        "    try:\n",
        "        # Step 1: Process essay\n",
        "        print(\"Step 1: Processing essay...\")\n",
        "        processed_essay = pipeline.process_essay(\"test_essay.txt\")\n",
        "        print(f\"   - {len(processed_essay.paragraphs)} paragraphs\")\n",
        "        print(f\"   - {processed_essay.metadata.word_count} words\")\n",
        "        print(f\"   - Language: {processed_essay.metadata.language_detected}\")\n",
        "        \n",
        "        # Step 2: Parse rubric\n",
        "        print(\"\\nStep 2: Parsing rubric...\")\n",
        "        rubric = pipeline.parse_rubric(\"test_file/test_rubric.docx\")\n",
        "        print(f\"   - {len(rubric.get('criteria', []))} criteria\")\n",
        "        print(f\"   - Scale type: {rubric.get('scale', {}).get('type')}\")\n",
        "        \n",
        "        # Step 3: Grade essay\n",
        "        print(\"\\nStep 3: Grading essay...\")\n",
        "        grade_summary = pipeline.grade_essay(rubric, processed_essay)\n",
        "        print(f\"   - Score: {grade_summary.numeric_score}\")\n",
        "        print(f\"   - Letter: {grade_summary.letter}\")\n",
        "        print(f\"   - Criteria evaluated: {len(grade_summary.per_criterion)}\")\n",
        "        \n",
        "        # Show detailed results\n",
        "        print(\"\\n📋 Detailed Results:\")\n",
        "        for i, criterion in enumerate(grade_summary.per_criterion, 1):\n",
        "            print(f\"   {i}. {criterion.criterion_id}: {criterion.level}\")\n",
        "            if criterion.justification:\n",
        "                print(f\"      Justification: {criterion.justification[:80]}...\")\n",
        "        \n",
        "    except Exception as e:\n",
        "        print(f\"❌ Error: {e}\")\n",
        "\n",
        "# Run the step-by-step example\n",
        "example_step_by_step()\n"
      ]
    },
    {
      "cell_type": "markdown",
      "metadata": {},
      "source": [
        "## Command Line Usage\n",
        "You can also use the pipeline from the command line:\n"
      ]
    },
    {
      "cell_type": "code",
      "execution_count": null,
      "metadata": {},
      "outputs": [],
      "source": [
        "# Command line examples\n",
        "print(\"💡 Command Line Usage Examples:\")\n",
        "print(\"=\" * 40)\n",
        "print(\"# Basic usage\")\n",
        "print(\"python rubriCheck_pipeline.py --rubric rubric.pdf --essay essay.txt\")\n",
        "print()\n",
        "print(\"# Save results to file\")\n",
        "print(\"python rubriCheck_pipeline.py --rubric rubric.docx --essay essay.pdf --output results.json\")\n",
        "print()\n",
        "print(\"# Custom options\")\n",
        "print(\"python rubriCheck_pipeline.py --rubric rubric.txt --essay essay.docx --no-redact --chunk-size 4\")\n"
      ]
    },
    {
      "cell_type": "markdown",
      "metadata": {},
      "source": [
        "## Summary\n",
        "\n",
        "This notebook demonstrates three ways to use the RubriCheck pipeline:\n",
        "\n",
        "1. **Basic Usage** - Simple one-line pipeline execution\n",
        "2. **Custom Options** - Customized preprocessing settings\n",
        "3. **Step-by-Step** - Individual control over each pipeline stage\n",
        "\n",
        "The pipeline integrates all three RubriCheck modules:\n",
        "- **Essay Preprocessor** (`essay_preprocessor.ipynb`)\n",
        "- **Rubric Parser** (`rubric_parser_prompt.ipynb`)\n",
        "- **Grading Engine** (`grading_engine.ipynb`)\n",
        "\n",
        "For more information, see `README_pipeline.md`.\n"
      ]
    }
  ],
  "metadata": {
    "kernelspec": {
      "display_name": "base",
      "language": "python",
      "name": "python3"
    },
    "language_info": {
      "codemirror_mode": {
        "name": "ipython",
        "version": 3
      },
      "file_extension": ".py",
      "mimetype": "text/x-python",
      "name": "python",
      "nbconvert_exporter": "python",
      "pygments_lexer": "ipython3",
      "version": "3.10.18"
    }
  },
  "nbformat": 4,
  "nbformat_minor": 2
}
